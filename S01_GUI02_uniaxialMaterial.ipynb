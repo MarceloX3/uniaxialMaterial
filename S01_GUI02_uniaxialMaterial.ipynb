{
 "cells": [
  {
   "cell_type": "code",
   "execution_count": 1,
   "id": "6b66d2ee-c106-4d40-bfc1-5d2e9a2c64a2",
   "metadata": {},
   "outputs": [
    {
     "data": {
      "application/vnd.jupyter.widget-view+json": {
       "model_id": "3a2570096080473a9e5db3dee32b0adb",
       "version_major": 2,
       "version_minor": 0
      },
      "text/plain": [
       "VBox(children=(HBox(children=(VBox(children=(HBox(children=(HTML(value='<b>Fiber Section - Openseespy</b>', la…"
      ]
     },
     "metadata": {},
     "output_type": "display_data"
    }
   ],
   "source": [
    "# Note: Close Jupyter Notebook using: File >> Shut Down.\n",
    "# Uncomment the GUI that you want to run:\n",
    "%run S01_GUI01_A01_Fiber_Section.py\n",
    "#%run S01_GUI02_A01_uniaxialMaterial.py\n",
    "#%run S01_GUI03_A01_ChartMander1988.py"
   ]
  },
  {
   "cell_type": "code",
   "execution_count": null,
   "id": "0ba32d63-26fb-4661-a51b-68ceaa7b0daa",
   "metadata": {},
   "outputs": [],
   "source": []
  }
 ],
 "metadata": {
  "kernelspec": {
   "display_name": "Python 3 (ipykernel)",
   "language": "python",
   "name": "python3"
  },
  "language_info": {
   "codemirror_mode": {
    "name": "ipython",
    "version": 3
   },
   "file_extension": ".py",
   "mimetype": "text/x-python",
   "name": "python",
   "nbconvert_exporter": "python",
   "pygments_lexer": "ipython3",
   "version": "3.11.7"
  }
 },
 "nbformat": 4,
 "nbformat_minor": 5
}
